{
 "cells": [
  {
   "cell_type": "code",
   "execution_count": 1,
   "metadata": {},
   "outputs": [
    {
     "name": "stdout",
     "output_type": "stream",
     "text": [
      "\n",
      "Options:\n",
      "1. Add a task\n",
      "2. Remove a task\n",
      "3. Display to-do list\n",
      "4. Exit\n",
      "Task 'linkedin posts' added to the to-do list.\n",
      "\n",
      "Options:\n",
      "1. Add a task\n",
      "2. Remove a task\n",
      "3. Display to-do list\n",
      "4. Exit\n",
      "To-Do List:\n",
      "1. linkedin posts\n",
      "\n",
      "Options:\n",
      "1. Add a task\n",
      "2. Remove a task\n",
      "3. Display to-do list\n",
      "4. Exit\n",
      "Exiting the to-do list application. Goodbye!\n"
     ]
    }
   ],
   "source": [
    "todo_list = []\n",
    "def add_task(task):\n",
    "    todo_list.append(task)\n",
    "    print(f\"Task '{task}' added to the to-do list.\")\n",
    "def remove_task(task):\n",
    "    if task in todo_list:\n",
    "        todo_list.remove(task)\n",
    "        print(f\"Task '{task}' removed from the to-do list.\")\n",
    "    else:\n",
    "        print(f\"Task '{task}' not found in the to-do list.\")\n",
    "def display_list():\n",
    "    if todo_list:\n",
    "        print(\"To-Do List:\")\n",
    "        for index, task in enumerate(todo_list, 1):\n",
    "            print(f\"{index}. {task}\")\n",
    "    else:\n",
    "        print(\"Your to-do list is empty.\")\n",
    "while True:\n",
    "    print(\"\\nOptions:\")\n",
    "    print(\"1. Add a task\")\n",
    "    print(\"2. Remove a task\")\n",
    "    print(\"3. Display to-do list\")\n",
    "    print(\"4. Exit\")\n",
    "    choice = input(\"Enter your choice (1/2/3/4): \")\n",
    "\n",
    "    if choice == \"1\":\n",
    "        task = input(\"Enter the task to add: \")\n",
    "        add_task(task)\n",
    "    elif choice == \"2\":\n",
    "        task = input(\"Enter the task to remove: \")\n",
    "        remove_task(task)\n",
    "    elif choice == \"3\":\n",
    "        display_list()\n",
    "    elif choice == \"4\":\n",
    "        print(\"Exiting the to-do list application. Goodbye!\")\n",
    "        break\n",
    "    else:\n",
    "        print(\"Invalid choice. Please choose a valid option (1/2/3/4).\")\n"
   ]
  }
 ],
 "metadata": {
  "kernelspec": {
   "display_name": "Python 3",
   "language": "python",
   "name": "python3"
  },
  "language_info": {
   "codemirror_mode": {
    "name": "ipython",
    "version": 3
   },
   "file_extension": ".py",
   "mimetype": "text/x-python",
   "name": "python",
   "nbconvert_exporter": "python",
   "pygments_lexer": "ipython3",
   "version": "3.9.6"
  }
 },
 "nbformat": 4,
 "nbformat_minor": 2
}
